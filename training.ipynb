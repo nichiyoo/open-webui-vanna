{
 "cells": [
  {
   "cell_type": "code",
   "execution_count": 1,
   "id": "f9df55cd",
   "metadata": {},
   "outputs": [],
   "source": [
    "# import libraries\n",
    "import os\n",
    "import pandas as pd\n",
    "from vanna.ollama import Ollama\n",
    "from vanna.chromadb import ChromaDB_VectorStore"
   ]
  },
  {
   "cell_type": "code",
   "execution_count": 2,
   "id": "301a0448",
   "metadata": {},
   "outputs": [],
   "source": [
    "# setup directory and filepath\n",
    "cdir = os.getcwd()\n",
    "chroma = os.path.join(cdir, \"database\")\n",
    "database = os.path.join(cdir, \"database.sqlite\")\n",
    "training = os.path.join(cdir, \"training\", \"dataset.csv\")"
   ]
  },
  {
   "cell_type": "code",
   "execution_count": 3,
   "id": "717bb89d",
   "metadata": {},
   "outputs": [
    {
     "name": "stderr",
     "output_type": "stream",
     "text": [
      "Failed to send telemetry event ClientStartEvent: capture() takes 1 positional argument but 3 were given\n",
      "Failed to send telemetry event ClientCreateCollectionEvent: capture() takes 1 positional argument but 3 were given\n",
      "Failed to send telemetry event ClientCreateCollectionEvent: capture() takes 1 positional argument but 3 were given\n",
      "Failed to send telemetry event ClientCreateCollectionEvent: capture() takes 1 positional argument but 3 were given\n"
     ]
    }
   ],
   "source": [
    "# instantiate vanna\n",
    "class Vanna(ChromaDB_VectorStore, Ollama):\n",
    "    def __init__(self, config=None) -> None:\n",
    "        ChromaDB_VectorStore.__init__(self, config=config)\n",
    "        Ollama.__init__(self, config=config)\n",
    "\n",
    "\n",
    "vn = Vanna(\n",
    "    config={\n",
    "        \"model\": \"qwen2.5:3b\",\n",
    "        \"path\": chroma,\n",
    "    }\n",
    ")"
   ]
  },
  {
   "cell_type": "code",
   "execution_count": 4,
   "id": "bc88f18c",
   "metadata": {},
   "outputs": [],
   "source": [
    "# connect to database\n",
    "vn.connect_to_sqlite(database)"
   ]
  },
  {
   "cell_type": "code",
   "execution_count": 5,
   "id": "0028c082",
   "metadata": {},
   "outputs": [
    {
     "name": "stdout",
     "output_type": "stream",
     "text": [
      "Adding ddl: CREATE TABLE campaign (\n",
      "    id INTEGER PRIMARY KEY AUTOINCREMENT,\n",
      "    name TEXT,\n",
      "    offer_id INTEGER,\n",
      "    channel TEXT,\n",
      "    target_segment TEXT,\n",
      "    start_date TEXT,\n",
      "    end_date TEXT,\n",
      "    FOREIGN KEY (offer_id) REFERENCES offer(id)\n",
      ")\n"
     ]
    },
    {
     "name": "stderr",
     "output_type": "stream",
     "text": [
      "Failed to send telemetry event CollectionAddEvent: capture() takes 1 positional argument but 3 were given\n"
     ]
    },
    {
     "name": "stdout",
     "output_type": "stream",
     "text": [
      "Adding ddl: CREATE TABLE sqlite_sequence(name,seq)\n",
      "Adding ddl: CREATE TABLE customer (\n",
      "    msisdn TEXT PRIMARY KEY,\n",
      "    name TEXT,\n",
      "    gender TEXT,\n",
      "    birth_date TEXT,\n",
      "    region_id INTEGER,\n",
      "    FOREIGN KEY (region_id) REFERENCES region(id)\n",
      ")\n",
      "Adding ddl: CREATE TABLE offer (\n",
      "    id INTEGER PRIMARY KEY AUTOINCREMENT,\n",
      "    name TEXT,\n",
      "    product_id INTEGER,\n",
      "    price REAL,\n",
      "    description TEXT,\n",
      "    FOREIGN KEY (product_id) REFERENCES product(id)\n",
      ")\n",
      "Adding ddl: CREATE TABLE product (\n",
      "    id INTEGER PRIMARY KEY AUTOINCREMENT,\n",
      "    name TEXT,\n",
      "    type TEXT,\n",
      "    quota_mb REAL,\n",
      "    price REAL\n",
      ")\n",
      "Adding ddl: CREATE TABLE purchase_log (\n",
      "    id INTEGER PRIMARY KEY AUTOINCREMENT,\n",
      "    msisdn TEXT,\n",
      "    product_id INTEGER,\n",
      "    offer_id INTEGER,\n",
      "    purchase_date TEXT,\n",
      "    price REAL,\n",
      "    payment_method TEXT,\n",
      "    status TEXT,\n",
      "    FOREIGN KEY (msisdn) REFERENCES customer(msisdn),\n",
      "    FOREIGN KEY (product_id) REFERENCES product(id),\n",
      "    FOREIGN KEY (offer_id) REFERENCES offer(id)\n",
      ")\n",
      "Adding ddl: CREATE TABLE region (\n",
      "    id INTEGER PRIMARY KEY AUTOINCREMENT,\n",
      "    name TEXT\n",
      ")\n",
      "Adding ddl: CREATE TABLE send_log (\n",
      "    id INTEGER PRIMARY KEY AUTOINCREMENT,\n",
      "    campaign_id INTEGER,\n",
      "    msisdn TEXT,\n",
      "    sent_at TEXT,\n",
      "    status TEXT,\n",
      "    FOREIGN KEY (campaign_id) REFERENCES campaign(id),\n",
      "    FOREIGN KEY (msisdn) REFERENCES customer(msisdn)\n",
      ")\n",
      "Adding ddl: CREATE TABLE usage_log (\n",
      "    id INTEGER PRIMARY KEY AUTOINCREMENT,\n",
      "    msisdn TEXT,\n",
      "    product_id INTEGER,\n",
      "    usage_date TEXT,\n",
      "    usage_amount REAL,\n",
      "    usage_type TEXT,\n",
      "    region_id INTEGER,\n",
      "    FOREIGN KEY (msisdn) REFERENCES customer(msisdn),\n",
      "    FOREIGN KEY (product_id) REFERENCES product(id),\n",
      "    FOREIGN KEY (region_id) REFERENCES region(id)\n",
      ")\n"
     ]
    }
   ],
   "source": [
    "# training with ddls\n",
    "ddls = vn.run_sql(\"SELECT type, sql FROM sqlite_master WHERE sql is not null\")\n",
    "for ddl in ddls[\"sql\"].to_list():\n",
    "    vn.train(ddl=ddl)"
   ]
  },
  {
   "cell_type": "code",
   "execution_count": 6,
   "id": "541c4cf1",
   "metadata": {},
   "outputs": [
    {
     "name": "stderr",
     "output_type": "stream",
     "text": [
      "Failed to send telemetry event CollectionAddEvent: capture() takes 1 positional argument but 3 were given\n"
     ]
    }
   ],
   "source": [
    "# training with questions and answer pairs\n",
    "df = pd.read_csv(training, delimiter=\";\")\n",
    "\n",
    "for index, row in df.iterrows():\n",
    "    question = row[\"question\"]\n",
    "    answer = row[\"answer\"] + \";\"\n",
    "    vn.train(question=question, sql=answer)"
   ]
  },
  {
   "cell_type": "code",
   "execution_count": null,
   "id": "2fd3f5c3",
   "metadata": {},
   "outputs": [],
   "source": []
  }
 ],
 "metadata": {
  "kernelspec": {
   "display_name": ".venv",
   "language": "python",
   "name": "python3"
  },
  "language_info": {
   "codemirror_mode": {
    "name": "ipython",
    "version": 3
   },
   "file_extension": ".py",
   "mimetype": "text/x-python",
   "name": "python",
   "nbconvert_exporter": "python",
   "pygments_lexer": "ipython3",
   "version": "3.11.3"
  }
 },
 "nbformat": 4,
 "nbformat_minor": 5
}
